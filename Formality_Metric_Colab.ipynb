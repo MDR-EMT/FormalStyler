{
  "nbformat": 4,
  "nbformat_minor": 0,
  "metadata": {
    "colab": {
      "name": "Formality Metric Colab",
      "provenance": [],
      "collapsed_sections": [
        "QGNKeTBhJKBs"
      ]
    },
    "kernelspec": {
      "name": "python3",
      "display_name": "Python 3"
    },
    "accelerator": "GPU"
  },
  "cells": [
    {
      "cell_type": "code",
      "metadata": {
        "id": "qse372vo_7bz",
        "colab": {
          "base_uri": "https://localhost:8080/"
        },
        "cellView": "form",
        "outputId": "35e8c449-b889-48f0-f26e-9bbfde6629d4"
      },
      "source": [
        "#@title Install and initialize\n",
        "#@markdown Run only once\n",
        "\n",
        "%tensorflow_version 2.x\n",
        "\n",
        "import numpy as np\n",
        "import tensorflow as tf\n",
        "\n",
        "path = \"/content/drive/My Drive/Colab Notebooks/Corpus/model_frml\"\n",
        "model2 = tf.keras.models.load_model(path)\n",
        "\n",
        "def predecir(arr,model):\n",
        "  pred = list(zip(arr,np.sin(np.arctan(np.array([x*.1 if x > 0 else x*.04 for x in model.predict(arr)])))))\n",
        "  print(\"Formality\\t\\t\\tText\")\n",
        "  print(*[f\"{y[0]}\\t{x}\\n\" for x,y in pred])\n",
        "  return pred\n",
        "\n",
        "from google.colab import drive\n",
        "drive.mount('/content/drive')"
      ],
      "execution_count": 2,
      "outputs": [
        {
          "output_type": "stream",
          "text": [
            "WARNING:tensorflow:SavedModel saved prior to TF 2.5 detected when loading Keras model. Please ensure that you are saving the model with model.save() or tf.keras.models.save_model(), *NOT* tf.saved_model.save(). To confirm, there should be a file named \"keras_metadata.pb\" in the SavedModel directory.\n",
            "Drive already mounted at /content/drive; to attempt to forcibly remount, call drive.mount(\"/content/drive\", force_remount=True).\n"
          ],
          "name": "stdout"
        }
      ]
    },
    {
      "cell_type": "code",
      "metadata": {
        "colab": {
          "base_uri": "https://localhost:8080/"
        },
        "cellView": "form",
        "id": "NMjhANjBFbaf",
        "outputId": "bdfb8677-cd7e-4f81-d67d-1430844906f6"
      },
      "source": [
        "#@title Paste Formalized Array here\n",
        "#@markdown ___\n",
        "transfer_array = \"['I am here, but I do not know why.', 'I am here, however I do not know why.', \\\"I'm here, but I'm unsure why.\\\"]\" #@param {type:\"string\"}\n",
        "if len(transfer_array)>2:\n",
        "  arr = eval(transfer_array)\n",
        "  predecir(arr,model2)"
      ],
      "execution_count": 7,
      "outputs": [
        {
          "output_type": "stream",
          "text": [
            "Score\t\t\tText\n",
            "0.8746926784515381\tI am here, but I do not know why.\n",
            " 0.9450900554656982\tI am here, however I do not know why.\n",
            " 0.9350205063819885\tI'm here, but I'm unsure why.\n",
            "\n"
          ],
          "name": "stdout"
        }
      ]
    }
  ]
}